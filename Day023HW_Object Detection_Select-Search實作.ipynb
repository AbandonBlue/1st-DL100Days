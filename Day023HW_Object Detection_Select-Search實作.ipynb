{
 "cells": [
  {
   "cell_type": "markdown",
   "metadata": {},
   "source": [
    "- 很好玩, 但候選區好像沒有我想像中好。"
   ]
  },
  {
   "cell_type": "code",
   "execution_count": 1,
   "metadata": {},
   "outputs": [
    {
     "name": "stdout",
     "output_type": "stream",
     "text": [
      "候選區域總數量: 3488\n"
     ]
    }
   ],
   "source": [
    "import cv2\n",
    "\n",
    "# 讀取圖檔\n",
    "image = cv2.imread('daily_photo.jpg')\n",
    "\n",
    "# 建立selective search分類器\n",
    "ss = cv2.ximgproc.segmentation.createSelectiveSearchSegmentation()\n",
    "\n",
    "# 設定要進行分割的圖形\n",
    "ss.setBaseImage(image)\n",
    "\n",
    "# 使用快速模式(精準度較差)\n",
    "ss.switchToSelectiveSearchFast()\n",
    "\n",
    "# 使用精準模式(較慢)\n",
    "# ss.switchToSelectiveSearchQuality()\n",
    "\n",
    "# 執行selective search 分割\n",
    "rects = ss.process()\n",
    "\n",
    "print(f'候選區域總數量: {len(rects)}')\n",
    "\n",
    "# 要顯示的候選區域數量\n",
    "numShowRects = 100\n",
    "\n",
    "# 每次增加或減少顯示的候選區域數量\n",
    "increment = 50\n",
    "\n",
    "while True:\n",
    "    # copy\n",
    "    imOut = image.copy()\n",
    "    \n",
    "    # 迴圈處理每一個候選區域\n",
    "    for i, rect in enumerate(rects):\n",
    "        # 方框標示候選區域\n",
    "        if i < numShowRects:\n",
    "            x, y, w, h = rect\n",
    "            cv2.rectangle(imOut, (x, y), (x+w, y+h), (0, 255, 0), 1, cv2.LINE_AA)\n",
    "        else:\n",
    "            break\n",
    "    # 顯示結果\n",
    "    cv2.imshow(\"Output\", imOut)\n",
    "    \n",
    "    # 讀取使用者所按下的key\n",
    "    k = cv2.waitKey(0) & 0xFF\n",
    "    \n",
    "    # 若按下 m 鍵，則增加 numShowRects\n",
    "    if k == 109:\n",
    "        numShowRects += increment\n",
    "    # 若按下 l 鍵，則減少\n",
    "    elif k == 108 and numShowRects > increment:\n",
    "        numShowRects -= increment\n",
    "    # 若按下 q 鍵，離開\n",
    "    elif k == 113:\n",
    "        break\n",
    "\n",
    "# 關閉圖形顯示視窗\n",
    "cv2.destroyAllWindows()"
   ]
  },
  {
   "cell_type": "markdown",
   "metadata": {},
   "source": [
    "# 列舉比較One-stage 與Two-stage的mAP\n",
    "- 基本上one-stage速度快得多，以YOLO為經典演算法有很多擴充。\n",
    "- Two-stage則多為R-CNN。速度慢，但精確度高。"
   ]
  }
 ],
 "metadata": {
  "kernelspec": {
   "display_name": "Python 3",
   "language": "python",
   "name": "python3"
  },
  "language_info": {
   "codemirror_mode": {
    "name": "ipython",
    "version": 3
   },
   "file_extension": ".py",
   "mimetype": "text/x-python",
   "name": "python",
   "nbconvert_exporter": "python",
   "pygments_lexer": "ipython3",
   "version": "3.7.3"
  }
 },
 "nbformat": 4,
 "nbformat_minor": 2
}
