{
 "cells": [
  {
   "cell_type": "markdown",
   "metadata": {},
   "source": [
    "# 作業\n",
    "\n",
    "使用 [Lena](http://optipng.sourceforge.net/pngtech/img/lena.png)\n",
    "\n",
    "- 改變圖片的 color space (`HLS`, `LAB`) 並呈現"
   ]
  },
  {
   "cell_type": "code",
   "execution_count": 1,
   "metadata": {},
   "outputs": [],
   "source": [
    "import cv2\n",
    "\n",
    "img_path = \"./Part01/lena.png\"\n",
    "\n",
    "# 彩色匯入\n",
    "img = cv2.imread(img_path, cv2.IMREAD_COLOR)\n",
    "\n",
    "# 改變color space\n",
    "img_hls = cv2.cvtColor(img, cv2.COLOR_BGR2HLS)\n",
    "img_lab = cv2.cvtColor(img, cv2.COLOR_BGR2LAB)\n",
    "\n",
    "while True:\n",
    "    cv2.imshow('BGR', img)\n",
    "    cv2.imshow('HLS', img_hls)\n",
    "    cv2.imshow('LAB', img_lab)\n",
    "    \n",
    "    # 直到按下esc才結束\n",
    "    k = cv2.waitKey(0)\n",
    "    if k == 27:\n",
    "        cv2.destroyAllWindows()\n",
    "        break"
   ]
  },
  {
   "cell_type": "code",
   "execution_count": 2,
   "metadata": {},
   "outputs": [
    {
     "data": {
      "text/plain": [
       "array([[[  4, 176, 162],\n",
       "        [  4, 176, 162],\n",
       "        [  1, 178, 149],\n",
       "        ...,\n",
       "        [  7, 176, 174],\n",
       "        [  5, 166, 158],\n",
       "        [  2, 145, 128]],\n",
       "\n",
       "       [[  4, 176, 162],\n",
       "        [  4, 176, 162],\n",
       "        [  1, 178, 149],\n",
       "        ...,\n",
       "        [  7, 176, 174],\n",
       "        [  5, 166, 158],\n",
       "        [  2, 145, 128]],\n",
       "\n",
       "       [[  4, 176, 162],\n",
       "        [  4, 176, 162],\n",
       "        [  1, 178, 149],\n",
       "        ...,\n",
       "        [  7, 176, 174],\n",
       "        [  5, 166, 158],\n",
       "        [  2, 145, 128]],\n",
       "\n",
       "       ...,\n",
       "\n",
       "       [[161,  51, 165],\n",
       "        [161,  51, 165],\n",
       "        [166,  60, 139],\n",
       "        ...,\n",
       "        [177, 123, 104],\n",
       "        [178, 120, 110],\n",
       "        [176, 120, 123]],\n",
       "\n",
       "       [[162,  52, 147],\n",
       "        [162,  52, 147],\n",
       "        [166,  64, 128],\n",
       "        ...,\n",
       "        [178, 124, 112],\n",
       "        [177, 126, 111],\n",
       "        [178, 130, 113]],\n",
       "\n",
       "       [[162,  52, 147],\n",
       "        [162,  52, 147],\n",
       "        [166,  64, 128],\n",
       "        ...,\n",
       "        [178, 124, 112],\n",
       "        [177, 126, 111],\n",
       "        [178, 130, 113]]], dtype=uint8)"
      ]
     },
     "execution_count": 2,
     "metadata": {},
     "output_type": "execute_result"
    }
   ],
   "source": [
    "img_hls"
   ]
  },
  {
   "cell_type": "code",
   "execution_count": 3,
   "metadata": {},
   "outputs": [
    {
     "data": {
      "text/plain": [
       "array([[[169, 161, 149],\n",
       "        [169, 161, 149],\n",
       "        [168, 160, 144],\n",
       "        ...,\n",
       "        [176, 156, 155],\n",
       "        [163, 161, 154],\n",
       "        [138, 167, 152]],\n",
       "\n",
       "       [[169, 161, 149],\n",
       "        [169, 161, 149],\n",
       "        [168, 160, 144],\n",
       "        ...,\n",
       "        [176, 156, 155],\n",
       "        [163, 161, 154],\n",
       "        [138, 167, 152]],\n",
       "\n",
       "       [[169, 161, 149],\n",
       "        [169, 161, 149],\n",
       "        [168, 160, 144],\n",
       "        ...,\n",
       "        [176, 156, 155],\n",
       "        [163, 161, 154],\n",
       "        [138, 167, 152]],\n",
       "\n",
       "       ...,\n",
       "\n",
       "       [[ 47, 163, 118],\n",
       "        [ 47, 163, 118],\n",
       "        [ 54, 161, 124],\n",
       "        ...,\n",
       "        [114, 170, 142],\n",
       "        [111, 171, 146],\n",
       "        [110, 176, 144]],\n",
       "\n",
       "       [[ 47, 159, 121],\n",
       "        [ 47, 159, 121],\n",
       "        [ 59, 160, 124],\n",
       "        ...,\n",
       "        [115, 173, 146],\n",
       "        [116, 173, 145],\n",
       "        [119, 173, 147]],\n",
       "\n",
       "       [[ 47, 159, 121],\n",
       "        [ 47, 159, 121],\n",
       "        [ 59, 160, 124],\n",
       "        ...,\n",
       "        [115, 173, 146],\n",
       "        [116, 173, 145],\n",
       "        [119, 173, 147]]], dtype=uint8)"
      ]
     },
     "execution_count": 3,
     "metadata": {},
     "output_type": "execute_result"
    }
   ],
   "source": [
    "img_lab"
   ]
  },
  {
   "cell_type": "code",
   "execution_count": null,
   "metadata": {},
   "outputs": [],
   "source": []
  }
 ],
 "metadata": {
  "kernelspec": {
   "display_name": "Python 3",
   "language": "python",
   "name": "python3"
  },
  "language_info": {
   "codemirror_mode": {
    "name": "ipython",
    "version": 3
   },
   "file_extension": ".py",
   "mimetype": "text/x-python",
   "name": "python",
   "nbconvert_exporter": "python",
   "pygments_lexer": "ipython3",
   "version": "3.7.3"
  }
 },
 "nbformat": 4,
 "nbformat_minor": 2
}
