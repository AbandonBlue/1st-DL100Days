{
  "nbformat": 4,
  "nbformat_minor": 0,
  "metadata": {
    "kernelspec": {
      "name": "python3",
      "display_name": "Python 3"
    },
    "language_info": {
      "codemirror_mode": {
        "name": "ipython",
        "version": 3
      },
      "file_extension": ".py",
      "mimetype": "text/x-python",
      "name": "python",
      "nbconvert_exporter": "python",
      "pygments_lexer": "ipython3",
      "version": "3.7.3"
    },
    "colab": {
      "name": "Day015_Cifar_HW.ipynb",
      "provenance": []
    },
    "accelerator": "GPU"
  },
  "cells": [
    {
      "cell_type": "markdown",
      "metadata": {
        "id": "SEqc616xvy8d",
        "colab_type": "text"
      },
      "source": [
        "## 『本次練習內容』\n",
        "#### 運用這幾天所學觀念搭建一個CNN分類器"
      ]
    },
    {
      "cell_type": "markdown",
      "metadata": {
        "id": "QCqPOe9nvy8m",
        "colab_type": "text"
      },
      "source": [
        "## 『本次練習目的』\n",
        "  #### 熟悉CNN分類器搭建步驟與原理\n",
        "  #### 學員們可以嘗試不同搭法，如使用不同的Maxpooling層，用GlobalAveragePooling取代Flatten等等"
      ]
    },
    {
      "cell_type": "code",
      "metadata": {
        "id": "tMcrVXrhvy8s",
        "colab_type": "code",
        "colab": {
          "base_uri": "https://localhost:8080/",
          "height": 80
        },
        "outputId": "d16c27eb-ef91-49ac-fdbe-ede78e090144"
      },
      "source": [
        "from keras.models import Sequential\n",
        "from keras.layers import Convolution2D\n",
        "from keras.layers import MaxPooling2D\n",
        "from keras.layers import Flatten\n",
        "from keras.layers import Dense\n",
        "from keras.layers import Dropout\n",
        "from keras.layers import BatchNormalization\n",
        "from keras.datasets import cifar10\n",
        "import numpy as np\n",
        "import tensorflow as tf\n",
        "from sklearn.preprocessing import OneHotEncoder\n"
      ],
      "execution_count": 1,
      "outputs": [
        {
          "output_type": "stream",
          "text": [
            "Using TensorFlow backend.\n"
          ],
          "name": "stderr"
        },
        {
          "output_type": "display_data",
          "data": {
            "text/html": [
              "<p style=\"color: red;\">\n",
              "The default version of TensorFlow in Colab will soon switch to TensorFlow 2.x.<br>\n",
              "We recommend you <a href=\"https://www.tensorflow.org/guide/migrate\" target=\"_blank\">upgrade</a> now \n",
              "or ensure your notebook will continue to use TensorFlow 1.x via the <code>%tensorflow_version 1.x</code> magic:\n",
              "<a href=\"https://colab.research.google.com/notebooks/tensorflow_version.ipynb\" target=\"_blank\">more info</a>.</p>\n"
            ],
            "text/plain": [
              "<IPython.core.display.HTML object>"
            ]
          },
          "metadata": {
            "tags": []
          }
        }
      ]
    },
    {
      "cell_type": "code",
      "metadata": {
        "id": "re_YcHKAvy9C",
        "colab_type": "code",
        "colab": {
          "base_uri": "https://localhost:8080/",
          "height": 68
        },
        "outputId": "4d369993-ecee-41da-dc71-7448efaccb9b"
      },
      "source": [
        "(x_train, y_train), (x_test, y_test) = cifar10.load_data()\n",
        "\n",
        "print(x_train.shape) #(50000, 32, 32, 3)\n",
        "\n",
        "## Normalize Data\n",
        "def normalize(X_train,X_test):\n",
        "    mean = np.mean(X_train,axis=(0,1,2,3))\n",
        "    std = np.std(X_train, axis=(0, 1, 2, 3))\n",
        "    X_train = (X_train-mean)/(std+1e-7)\n",
        "    X_test = (X_test-mean)/(std+1e-7) \n",
        "    return X_train, X_test,mean,std\n",
        "    \n",
        "    \n",
        "## Normalize Training and Testset    \n",
        "x_train, x_test,mean_train,std_train = normalize(x_train, x_test) "
      ],
      "execution_count": 2,
      "outputs": [
        {
          "output_type": "stream",
          "text": [
            "Downloading data from https://www.cs.toronto.edu/~kriz/cifar-10-python.tar.gz\n",
            "170500096/170498071 [==============================] - 4s 0us/step\n",
            "(50000, 32, 32, 3)\n"
          ],
          "name": "stdout"
        }
      ]
    },
    {
      "cell_type": "code",
      "metadata": {
        "id": "3TxYyEnYvy9X",
        "colab_type": "code",
        "colab": {}
      },
      "source": [
        "## OneHot Label 由(None, 1)-(None, 10)\n",
        "## ex. label=2,變成[0,0,1,0,0,0,0,0,0,0]\n",
        "one_hot=OneHotEncoder()\n",
        "y_train=one_hot.fit_transform(y_train).toarray()\n",
        "y_test=one_hot.transform(y_test).toarray()"
      ],
      "execution_count": 0,
      "outputs": []
    },
    {
      "cell_type": "code",
      "metadata": {
        "id": "kJo0bDyTvy9h",
        "colab_type": "code",
        "colab": {
          "base_uri": "https://localhost:8080/",
          "height": 1000
        },
        "outputId": "4a9932d8-f0e6-4b58-b140-ca414f9aea5f"
      },
      "source": [
        "\n",
        "classifier=Sequential()\n",
        "\n",
        "#卷積組合\n",
        "#32,3,3,input_shape=(32,32,3),activation='relu''\n",
        "classifier.add(Convolution2D(filters=32, kernel_size=(3, 3), input_shape=(32, 32, 3), activation='relu'))\n",
        "classifier.add(BatchNormalization())\n",
        "\n",
        "\n",
        "\n",
        "#卷積組合\n",
        "classifier.add(Convolution2D(32, kernel_size=(3, 3), activation=\"relu\"))\n",
        "classifier.add(BatchNormalization(momentum=0.98, epsilon=0.001))\n",
        "# '''自己決定MaxPooling2D放在哪裡''' ----> 放這    \n",
        "classifier.add(MaxPooling2D(pool_size=(2,2)))\n",
        "\n",
        "#flatten\n",
        "classifier.add(Flatten())\n",
        "\n",
        "#FC\n",
        "classifier.add(Dense(units=100, activation=\"relu\")) #output_dim=100,activation=relu\n",
        "\n",
        "#輸出\n",
        "classifier.add(Dense(output_dim=10,activation='softmax'))\n",
        "\n",
        "#超過兩個就要選categorical_crossentrophy\n",
        "classifier.compile(optimizer = 'adam', loss = 'categorical_crossentropy', metrics = ['accuracy'])\n",
        "classifier.summary()\n",
        "classifier.fit(x_train,y_train,batch_size=100,epochs=100)"
      ],
      "execution_count": 4,
      "outputs": [
        {
          "output_type": "stream",
          "text": [
            "WARNING:tensorflow:From /usr/local/lib/python3.6/dist-packages/keras/backend/tensorflow_backend.py:66: The name tf.get_default_graph is deprecated. Please use tf.compat.v1.get_default_graph instead.\n",
            "\n",
            "WARNING:tensorflow:From /usr/local/lib/python3.6/dist-packages/keras/backend/tensorflow_backend.py:541: The name tf.placeholder is deprecated. Please use tf.compat.v1.placeholder instead.\n",
            "\n",
            "WARNING:tensorflow:From /usr/local/lib/python3.6/dist-packages/keras/backend/tensorflow_backend.py:4432: The name tf.random_uniform is deprecated. Please use tf.random.uniform instead.\n",
            "\n",
            "WARNING:tensorflow:From /usr/local/lib/python3.6/dist-packages/keras/backend/tensorflow_backend.py:190: The name tf.get_default_session is deprecated. Please use tf.compat.v1.get_default_session instead.\n",
            "\n",
            "WARNING:tensorflow:From /usr/local/lib/python3.6/dist-packages/keras/backend/tensorflow_backend.py:197: The name tf.ConfigProto is deprecated. Please use tf.compat.v1.ConfigProto instead.\n",
            "\n",
            "WARNING:tensorflow:From /usr/local/lib/python3.6/dist-packages/keras/backend/tensorflow_backend.py:203: The name tf.Session is deprecated. Please use tf.compat.v1.Session instead.\n",
            "\n",
            "WARNING:tensorflow:From /usr/local/lib/python3.6/dist-packages/keras/backend/tensorflow_backend.py:207: The name tf.global_variables is deprecated. Please use tf.compat.v1.global_variables instead.\n",
            "\n",
            "WARNING:tensorflow:From /usr/local/lib/python3.6/dist-packages/keras/backend/tensorflow_backend.py:216: The name tf.is_variable_initialized is deprecated. Please use tf.compat.v1.is_variable_initialized instead.\n",
            "\n",
            "WARNING:tensorflow:From /usr/local/lib/python3.6/dist-packages/keras/backend/tensorflow_backend.py:223: The name tf.variables_initializer is deprecated. Please use tf.compat.v1.variables_initializer instead.\n",
            "\n",
            "WARNING:tensorflow:From /usr/local/lib/python3.6/dist-packages/keras/backend/tensorflow_backend.py:2041: The name tf.nn.fused_batch_norm is deprecated. Please use tf.compat.v1.nn.fused_batch_norm instead.\n",
            "\n",
            "WARNING:tensorflow:From /usr/local/lib/python3.6/dist-packages/keras/backend/tensorflow_backend.py:148: The name tf.placeholder_with_default is deprecated. Please use tf.compat.v1.placeholder_with_default instead.\n",
            "\n",
            "WARNING:tensorflow:From /usr/local/lib/python3.6/dist-packages/keras/backend/tensorflow_backend.py:4267: The name tf.nn.max_pool is deprecated. Please use tf.nn.max_pool2d instead.\n",
            "\n",
            "WARNING:tensorflow:From /usr/local/lib/python3.6/dist-packages/keras/optimizers.py:793: The name tf.train.Optimizer is deprecated. Please use tf.compat.v1.train.Optimizer instead.\n",
            "\n",
            "WARNING:tensorflow:From /usr/local/lib/python3.6/dist-packages/keras/backend/tensorflow_backend.py:3576: The name tf.log is deprecated. Please use tf.math.log instead.\n",
            "\n",
            "Model: \"sequential_1\"\n",
            "_________________________________________________________________\n",
            "Layer (type)                 Output Shape              Param #   \n",
            "=================================================================\n",
            "conv2d_1 (Conv2D)            (None, 30, 30, 32)        896       \n",
            "_________________________________________________________________\n",
            "batch_normalization_1 (Batch (None, 30, 30, 32)        128       \n",
            "_________________________________________________________________\n",
            "conv2d_2 (Conv2D)            (None, 28, 28, 32)        9248      \n",
            "_________________________________________________________________\n",
            "batch_normalization_2 (Batch (None, 28, 28, 32)        128       \n",
            "_________________________________________________________________\n",
            "max_pooling2d_1 (MaxPooling2 (None, 14, 14, 32)        0         \n",
            "_________________________________________________________________\n",
            "flatten_1 (Flatten)          (None, 6272)              0         \n",
            "_________________________________________________________________\n",
            "dense_1 (Dense)              (None, 100)               627300    \n",
            "_________________________________________________________________\n",
            "dense_2 (Dense)              (None, 10)                1010      \n",
            "=================================================================\n",
            "Total params: 638,710\n",
            "Trainable params: 638,582\n",
            "Non-trainable params: 128\n",
            "_________________________________________________________________\n",
            "WARNING:tensorflow:From /usr/local/lib/python3.6/dist-packages/tensorflow_core/python/ops/math_grad.py:1424: where (from tensorflow.python.ops.array_ops) is deprecated and will be removed in a future version.\n",
            "Instructions for updating:\n",
            "Use tf.where in 2.0, which has the same broadcast rule as np.where\n"
          ],
          "name": "stdout"
        },
        {
          "output_type": "stream",
          "text": [
            "/usr/local/lib/python3.6/dist-packages/ipykernel_launcher.py:24: UserWarning: Update your `Dense` call to the Keras 2 API: `Dense(activation=\"softmax\", units=10)`\n"
          ],
          "name": "stderr"
        },
        {
          "output_type": "stream",
          "text": [
            "WARNING:tensorflow:From /usr/local/lib/python3.6/dist-packages/keras/backend/tensorflow_backend.py:1033: The name tf.assign_add is deprecated. Please use tf.compat.v1.assign_add instead.\n",
            "\n",
            "WARNING:tensorflow:From /usr/local/lib/python3.6/dist-packages/keras/backend/tensorflow_backend.py:1020: The name tf.assign is deprecated. Please use tf.compat.v1.assign instead.\n",
            "\n",
            "Epoch 1/100\n",
            "50000/50000 [==============================] - 11s 220us/step - loss: 1.3710 - acc: 0.5204\n",
            "Epoch 2/100\n",
            "50000/50000 [==============================] - 4s 88us/step - loss: 0.9437 - acc: 0.6712\n",
            "Epoch 3/100\n",
            "50000/50000 [==============================] - 4s 87us/step - loss: 0.7613 - acc: 0.7323\n",
            "Epoch 4/100\n",
            "50000/50000 [==============================] - 4s 87us/step - loss: 0.6190 - acc: 0.7814\n",
            "Epoch 5/100\n",
            "50000/50000 [==============================] - 4s 87us/step - loss: 0.4933 - acc: 0.8257\n",
            "Epoch 6/100\n",
            "50000/50000 [==============================] - 4s 88us/step - loss: 0.3636 - acc: 0.8766\n",
            "Epoch 7/100\n",
            "50000/50000 [==============================] - 4s 87us/step - loss: 0.2627 - acc: 0.9090\n",
            "Epoch 8/100\n",
            "50000/50000 [==============================] - 4s 87us/step - loss: 0.1967 - acc: 0.9324\n",
            "Epoch 9/100\n",
            "50000/50000 [==============================] - 4s 89us/step - loss: 0.1529 - acc: 0.9487\n",
            "Epoch 10/100\n",
            "50000/50000 [==============================] - 4s 89us/step - loss: 0.1238 - acc: 0.9578\n",
            "Epoch 11/100\n",
            "50000/50000 [==============================] - 4s 89us/step - loss: 0.1047 - acc: 0.9650\n",
            "Epoch 12/100\n",
            "50000/50000 [==============================] - 5s 90us/step - loss: 0.1013 - acc: 0.9651\n",
            "Epoch 13/100\n",
            "50000/50000 [==============================] - 4s 89us/step - loss: 0.0876 - acc: 0.9697\n",
            "Epoch 14/100\n",
            "50000/50000 [==============================] - 4s 89us/step - loss: 0.0775 - acc: 0.9739\n",
            "Epoch 15/100\n",
            "50000/50000 [==============================] - 4s 89us/step - loss: 0.0795 - acc: 0.9729\n",
            "Epoch 16/100\n",
            "50000/50000 [==============================] - 4s 89us/step - loss: 0.0655 - acc: 0.9780\n",
            "Epoch 17/100\n",
            "50000/50000 [==============================] - 4s 88us/step - loss: 0.0539 - acc: 0.9820\n",
            "Epoch 18/100\n",
            "50000/50000 [==============================] - 4s 87us/step - loss: 0.0616 - acc: 0.9780\n",
            "Epoch 19/100\n",
            "50000/50000 [==============================] - 4s 88us/step - loss: 0.0580 - acc: 0.9801\n",
            "Epoch 20/100\n",
            "50000/50000 [==============================] - 4s 88us/step - loss: 0.0538 - acc: 0.9823\n",
            "Epoch 21/100\n",
            "50000/50000 [==============================] - 4s 88us/step - loss: 0.0563 - acc: 0.9811\n",
            "Epoch 22/100\n",
            "50000/50000 [==============================] - 4s 88us/step - loss: 0.0544 - acc: 0.9813\n",
            "Epoch 23/100\n",
            "50000/50000 [==============================] - 4s 88us/step - loss: 0.0433 - acc: 0.9856\n",
            "Epoch 24/100\n",
            "50000/50000 [==============================] - 5s 91us/step - loss: 0.0468 - acc: 0.9844\n",
            "Epoch 25/100\n",
            "50000/50000 [==============================] - 5s 94us/step - loss: 0.0484 - acc: 0.9840\n",
            "Epoch 26/100\n",
            "50000/50000 [==============================] - 5s 92us/step - loss: 0.0420 - acc: 0.9859\n",
            "Epoch 27/100\n",
            "50000/50000 [==============================] - 5s 92us/step - loss: 0.0364 - acc: 0.9879\n",
            "Epoch 28/100\n",
            "50000/50000 [==============================] - 5s 93us/step - loss: 0.0424 - acc: 0.9859\n",
            "Epoch 29/100\n",
            "50000/50000 [==============================] - 5s 92us/step - loss: 0.0461 - acc: 0.9851\n",
            "Epoch 30/100\n",
            "50000/50000 [==============================] - 5s 93us/step - loss: 0.0401 - acc: 0.9865\n",
            "Epoch 31/100\n",
            "50000/50000 [==============================] - 5s 91us/step - loss: 0.0294 - acc: 0.9897\n",
            "Epoch 32/100\n",
            "50000/50000 [==============================] - 5s 93us/step - loss: 0.0354 - acc: 0.9888\n",
            "Epoch 33/100\n",
            "50000/50000 [==============================] - 5s 95us/step - loss: 0.0379 - acc: 0.9873\n",
            "Epoch 34/100\n",
            "50000/50000 [==============================] - 5s 94us/step - loss: 0.0399 - acc: 0.9874\n",
            "Epoch 35/100\n",
            "50000/50000 [==============================] - 4s 90us/step - loss: 0.0389 - acc: 0.9876\n",
            "Epoch 36/100\n",
            "50000/50000 [==============================] - 5s 93us/step - loss: 0.0372 - acc: 0.9881\n",
            "Epoch 37/100\n",
            "50000/50000 [==============================] - 5s 91us/step - loss: 0.0249 - acc: 0.9917\n",
            "Epoch 38/100\n",
            "50000/50000 [==============================] - 5s 92us/step - loss: 0.0212 - acc: 0.9929\n",
            "Epoch 39/100\n",
            "50000/50000 [==============================] - 5s 90us/step - loss: 0.0333 - acc: 0.9895\n",
            "Epoch 40/100\n",
            "50000/50000 [==============================] - 5s 95us/step - loss: 0.0475 - acc: 0.9856\n",
            "Epoch 41/100\n",
            "50000/50000 [==============================] - 5s 92us/step - loss: 0.0287 - acc: 0.9910\n",
            "Epoch 42/100\n",
            "50000/50000 [==============================] - 5s 91us/step - loss: 0.0263 - acc: 0.9915\n",
            "Epoch 43/100\n",
            "50000/50000 [==============================] - 5s 90us/step - loss: 0.0211 - acc: 0.9930\n",
            "Epoch 44/100\n",
            "50000/50000 [==============================] - 5s 91us/step - loss: 0.0250 - acc: 0.9918\n",
            "Epoch 45/100\n",
            "50000/50000 [==============================] - 4s 89us/step - loss: 0.0390 - acc: 0.9880\n",
            "Epoch 46/100\n",
            "50000/50000 [==============================] - 5s 92us/step - loss: 0.0322 - acc: 0.9902\n",
            "Epoch 47/100\n",
            "50000/50000 [==============================] - 5s 91us/step - loss: 0.0202 - acc: 0.9934\n",
            "Epoch 48/100\n",
            "50000/50000 [==============================] - 5s 91us/step - loss: 0.0206 - acc: 0.9937\n",
            "Epoch 49/100\n",
            "50000/50000 [==============================] - 5s 94us/step - loss: 0.0205 - acc: 0.9934\n",
            "Epoch 50/100\n",
            "50000/50000 [==============================] - 5s 93us/step - loss: 0.0269 - acc: 0.9906\n",
            "Epoch 51/100\n",
            "50000/50000 [==============================] - 5s 93us/step - loss: 0.0290 - acc: 0.9910\n",
            "Epoch 52/100\n",
            "50000/50000 [==============================] - 4s 89us/step - loss: 0.0264 - acc: 0.9911\n",
            "Epoch 53/100\n",
            "50000/50000 [==============================] - 5s 91us/step - loss: 0.0235 - acc: 0.9928\n",
            "Epoch 54/100\n",
            "50000/50000 [==============================] - 5s 90us/step - loss: 0.0185 - acc: 0.9940\n",
            "Epoch 55/100\n",
            "50000/50000 [==============================] - 4s 88us/step - loss: 0.0199 - acc: 0.9939\n",
            "Epoch 56/100\n",
            "50000/50000 [==============================] - 4s 88us/step - loss: 0.0199 - acc: 0.9937\n",
            "Epoch 57/100\n",
            "50000/50000 [==============================] - 4s 89us/step - loss: 0.0241 - acc: 0.9921\n",
            "Epoch 58/100\n",
            "50000/50000 [==============================] - 4s 87us/step - loss: 0.0266 - acc: 0.9912\n",
            "Epoch 59/100\n",
            "50000/50000 [==============================] - 4s 89us/step - loss: 0.0203 - acc: 0.9936\n",
            "Epoch 60/100\n",
            "50000/50000 [==============================] - 4s 87us/step - loss: 0.0223 - acc: 0.9930\n",
            "Epoch 61/100\n",
            "50000/50000 [==============================] - 4s 86us/step - loss: 0.0169 - acc: 0.9946\n",
            "Epoch 62/100\n",
            "50000/50000 [==============================] - 4s 87us/step - loss: 0.0128 - acc: 0.9960\n",
            "Epoch 63/100\n",
            "50000/50000 [==============================] - 4s 86us/step - loss: 0.0257 - acc: 0.9922\n",
            "Epoch 64/100\n",
            "50000/50000 [==============================] - 4s 87us/step - loss: 0.0206 - acc: 0.9935\n",
            "Epoch 65/100\n",
            "50000/50000 [==============================] - 4s 86us/step - loss: 0.0195 - acc: 0.9940\n",
            "Epoch 66/100\n",
            "50000/50000 [==============================] - 4s 88us/step - loss: 0.0204 - acc: 0.9942\n",
            "Epoch 67/100\n",
            "50000/50000 [==============================] - 5s 90us/step - loss: 0.0235 - acc: 0.9925\n",
            "Epoch 68/100\n",
            "50000/50000 [==============================] - 4s 90us/step - loss: 0.0193 - acc: 0.9938\n",
            "Epoch 69/100\n",
            "50000/50000 [==============================] - 4s 84us/step - loss: 0.0170 - acc: 0.9946\n",
            "Epoch 70/100\n",
            "50000/50000 [==============================] - 4s 85us/step - loss: 0.0100 - acc: 0.9967\n",
            "Epoch 71/100\n",
            "50000/50000 [==============================] - 4s 84us/step - loss: 0.0119 - acc: 0.9961\n",
            "Epoch 72/100\n",
            "50000/50000 [==============================] - 4s 85us/step - loss: 0.0258 - acc: 0.9925\n",
            "Epoch 73/100\n",
            "50000/50000 [==============================] - 4s 84us/step - loss: 0.0192 - acc: 0.9937\n",
            "Epoch 74/100\n",
            "50000/50000 [==============================] - 4s 86us/step - loss: 0.0157 - acc: 0.9953\n",
            "Epoch 75/100\n",
            "50000/50000 [==============================] - 4s 85us/step - loss: 0.0160 - acc: 0.9950\n",
            "Epoch 76/100\n",
            "50000/50000 [==============================] - 4s 86us/step - loss: 0.0199 - acc: 0.9939\n",
            "Epoch 77/100\n",
            "50000/50000 [==============================] - 4s 85us/step - loss: 0.0183 - acc: 0.9946\n",
            "Epoch 78/100\n",
            "50000/50000 [==============================] - 4s 85us/step - loss: 0.0135 - acc: 0.9957\n",
            "Epoch 79/100\n",
            "50000/50000 [==============================] - 4s 85us/step - loss: 0.0119 - acc: 0.9963\n",
            "Epoch 80/100\n",
            "50000/50000 [==============================] - 4s 85us/step - loss: 0.0158 - acc: 0.9953\n",
            "Epoch 81/100\n",
            "50000/50000 [==============================] - 4s 87us/step - loss: 0.0231 - acc: 0.9932\n",
            "Epoch 82/100\n",
            "50000/50000 [==============================] - 4s 87us/step - loss: 0.0159 - acc: 0.9951\n",
            "Epoch 83/100\n",
            "50000/50000 [==============================] - 4s 85us/step - loss: 0.0157 - acc: 0.9953\n",
            "Epoch 84/100\n",
            "50000/50000 [==============================] - 4s 85us/step - loss: 0.0150 - acc: 0.9952\n",
            "Epoch 85/100\n",
            "50000/50000 [==============================] - 4s 85us/step - loss: 0.0133 - acc: 0.9958\n",
            "Epoch 86/100\n",
            "50000/50000 [==============================] - 4s 86us/step - loss: 0.0128 - acc: 0.9962\n",
            "Epoch 87/100\n",
            "50000/50000 [==============================] - 4s 87us/step - loss: 0.0157 - acc: 0.9955\n",
            "Epoch 88/100\n",
            "50000/50000 [==============================] - 4s 86us/step - loss: 0.0154 - acc: 0.9956\n",
            "Epoch 89/100\n",
            "50000/50000 [==============================] - 4s 84us/step - loss: 0.0158 - acc: 0.9953\n",
            "Epoch 90/100\n",
            "50000/50000 [==============================] - 4s 86us/step - loss: 0.0189 - acc: 0.9944\n",
            "Epoch 91/100\n",
            "50000/50000 [==============================] - 4s 85us/step - loss: 0.0096 - acc: 0.9967\n",
            "Epoch 92/100\n",
            "50000/50000 [==============================] - 4s 84us/step - loss: 0.0128 - acc: 0.9959\n",
            "Epoch 93/100\n",
            "50000/50000 [==============================] - 4s 85us/step - loss: 0.0113 - acc: 0.9966\n",
            "Epoch 94/100\n",
            "50000/50000 [==============================] - 4s 86us/step - loss: 0.0192 - acc: 0.9945\n",
            "Epoch 95/100\n",
            "50000/50000 [==============================] - 4s 86us/step - loss: 0.0218 - acc: 0.9936\n",
            "Epoch 96/100\n",
            "50000/50000 [==============================] - 4s 86us/step - loss: 0.0129 - acc: 0.9959\n",
            "Epoch 97/100\n",
            "50000/50000 [==============================] - 4s 86us/step - loss: 0.0074 - acc: 0.9976\n",
            "Epoch 98/100\n",
            "50000/50000 [==============================] - 4s 85us/step - loss: 0.0109 - acc: 0.9968\n",
            "Epoch 99/100\n",
            "50000/50000 [==============================] - 4s 85us/step - loss: 0.0131 - acc: 0.9959\n",
            "Epoch 100/100\n",
            "50000/50000 [==============================] - 4s 85us/step - loss: 0.0192 - acc: 0.9945\n"
          ],
          "name": "stdout"
        },
        {
          "output_type": "execute_result",
          "data": {
            "text/plain": [
              "<keras.callbacks.History at 0x7f50ee36f278>"
            ]
          },
          "metadata": {
            "tags": []
          },
          "execution_count": 4
        }
      ]
    },
    {
      "cell_type": "markdown",
      "metadata": {
        "id": "axONfdVDvy9q",
        "colab_type": "text"
      },
      "source": [
        "## 預測新圖片，輸入影像前處理要與訓練時相同\n",
        "#### ((X-mean)/(std+1e-7) ):這裡的mean跟std是訓練集的\n",
        "## 維度如下方示範"
      ]
    },
    {
      "cell_type": "code",
      "metadata": {
        "id": "fC5auC_3vy9s",
        "colab_type": "code",
        "colab": {
          "base_uri": "https://localhost:8080/",
          "height": 68
        },
        "outputId": "bf62f61e-7b7b-4b6b-d636-57e915e56a48"
      },
      "source": [
        "input_example=(np.zeros(shape=(1,32,32,3))-mean_train)/(std_train+1e-7) \n",
        "classifier.predict(input_example)"
      ],
      "execution_count": 5,
      "outputs": [
        {
          "output_type": "execute_result",
          "data": {
            "text/plain": [
              "array([[1.6524389e-09, 0.0000000e+00, 3.3007255e-18, 9.9803597e-01,\n",
              "        1.9641006e-03, 0.0000000e+00, 1.5776334e-18, 0.0000000e+00,\n",
              "        9.1417173e-28, 0.0000000e+00]], dtype=float32)"
            ]
          },
          "metadata": {
            "tags": []
          },
          "execution_count": 5
        }
      ]
    },
    {
      "cell_type": "code",
      "metadata": {
        "id": "058mo-0xvy95",
        "colab_type": "code",
        "colab": {}
      },
      "source": [
        ""
      ],
      "execution_count": 0,
      "outputs": []
    }
  ]
}